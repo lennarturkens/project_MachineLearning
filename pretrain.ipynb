{
 "cells": [
  {
   "cell_type": "markdown",
   "metadata": {},
   "source": [
    "#### Pretrain ####\n",
    "This notebook was used to pretrain the model."
   ]
  },
  {
   "cell_type": "code",
   "execution_count": null,
   "metadata": {},
   "outputs": [],
   "source": [
    "# some necessary imports and setting seed\n",
    "\n",
    "import torch\n",
    "import torchvision\n",
    "from torchvision import transforms, datasets\n",
    "import matplotlib.pyplot as plt\n",
    "from pytorch_revgrad import RevGrad\n",
    "import random\n",
    "import torch.nn as nn\n",
    "import torch.nn.functional as F\n",
    "import model\n",
    "import tt_simnet as sim\n",
    "\n",
    "torch.manual_seed(0)"
   ]
  },
  {
   "cell_type": "code",
   "execution_count": 2,
   "metadata": {},
   "outputs": [],
   "source": [
    "# loading in (and if necessary downloading) the MNIST and USPS datasets\n",
    "\n",
    "transformation = transforms.Compose([\n",
    "    transforms.Resize((32,32)),\n",
    "    transforms.RandomCrop((28, 28)),\n",
    "    transforms.ToTensor()\n",
    "])\n",
    "\n",
    "train_MNIST = datasets.MNIST('', train=True, download=True, transform=transformation)\n",
    "test_MNIST = datasets.MNIST('', train=False, download=True, transform=transformation)\n",
    "\n",
    "train_USPS = datasets.USPS('USPS', train=True, download=True, transform=transformation)\n",
    "test_USPS = datasets.USPS('USPS', train=False, download=True, transform=transformation)\n",
    "\n",
    "trainset_MNIST = torch.utils.data.DataLoader(train_MNIST, batch_size=32, shuffle=True)\n",
    "testset_MNIST = torch.utils.data.DataLoader(test_MNIST, batch_size=32, shuffle=False)\n",
    "\n",
    "trainset_USPS = torch.utils.data.DataLoader(train_USPS, batch_size=32, shuffle=True)\n",
    "testset_USPS = torch.utils.data.DataLoader(test_USPS, batch_size=32, shuffle=False)"
   ]
  },
  {
   "cell_type": "code",
   "execution_count": 3,
   "metadata": {},
   "outputs": [
    {
     "name": "stdout",
     "output_type": "stream",
     "text": [
      "Running on the GPU\n"
     ]
    }
   ],
   "source": [
    "# if available setting the device to GPU\n",
    "\n",
    "if torch.cuda.is_available():\n",
    "    device = torch.device(\"cuda:0\")\n",
    "    print(\"Running on the GPU\")\n",
    "else:\n",
    "    device = torch.device(\"cpu\")\n",
    "    print(\"Running on the CPU\")"
   ]
  },
  {
   "cell_type": "code",
   "execution_count": 4,
   "metadata": {},
   "outputs": [],
   "source": [
    "# setting up pretrain parameters\n",
    "\n",
    "net = model.PretrainNet().to(device)\n",
    "optimizer_net = torch.optim.Adam(net.parameters(), lr=1e-3)\n",
    "num_epochs = 10\n",
    "save = False\n",
    "reg = False\n",
    "gamma_reg = 0.01"
   ]
  },
  {
   "cell_type": "code",
   "execution_count": 1,
   "metadata": {},
   "outputs": [],
   "source": [
    "net = sim.pretrain(device, net, optimizer_net, num_epochs, trainset_MNIST, regularization=reg, gamma_reg=gamma_reg)"
   ]
  },
  {
   "cell_type": "code",
   "execution_count": null,
   "metadata": {},
   "outputs": [],
   "source": [
    "if save == True:\n",
    "    if reg == True:\n",
    "        PATH = \"standard_encoder_reg.pt\"\n",
    "    elif reg == False:\n",
    "        PATH = \"standard_encoder_noreg.pt\"\n",
    "        \n",
    "    torch.save(net.encoder.state_dict(), PATH)"
   ]
  }
 ],
 "metadata": {
  "kernelspec": {
   "display_name": "Python 3",
   "language": "python",
   "name": "python3"
  },
  "language_info": {
   "codemirror_mode": {
    "name": "ipython",
    "version": 3
   },
   "file_extension": ".py",
   "mimetype": "text/x-python",
   "name": "python",
   "nbconvert_exporter": "python",
   "pygments_lexer": "ipython3",
   "version": "3.6.12"
  }
 },
 "nbformat": 4,
 "nbformat_minor": 4
}
