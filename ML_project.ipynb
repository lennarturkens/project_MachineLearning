{
 "cells": [
  {
   "cell_type": "code",
   "execution_count": 12,
   "metadata": {},
   "outputs": [],
   "source": [
    "import torch\n",
    "import torchvision\n",
    "from torchvision import transforms, datasets\n",
    "import matplotlib.pyplot as plt\n",
    "\n",
    "train_MNIST = datasets.MNIST('', train=True, download=True,\n",
    "                       transform=transforms.Compose([\n",
    "                           transforms.ToTensor()\n",
    "                       ]))\n",
    "\n",
    "test_MNIST = datasets.MNIST('', train=False, download=True,\n",
    "                       transform=transforms.Compose([\n",
    "                           transforms.ToTensor()\n",
    "                       ]))\n",
    "\n",
    "train_USPS = datasets.USPS('USPS', train=True, download=True,\n",
    "                       transform=transforms.Compose([\n",
    "                           transforms.ToTensor()\n",
    "                       ]))\n",
    "\n",
    "test_USPS = datasets.USPS('USPS', train=False, download=True,\n",
    "                       transform=transforms.Compose([\n",
    "                           transforms.ToTensor()\n",
    "                       ]))\n",
    "\n",
    "trainset_MNIST = torch.utils.data.DataLoader(train_MNIST, batch_size=32, shuffle=True)\n",
    "testset_MNIST = torch.utils.data.DataLoader(test_MNIST, batch_size=32, shuffle=False)\n",
    "\n",
    "trainset_USPS = torch.utils.data.DataLoader(train_USPS, batch_size=32, shuffle=True)\n",
    "testset_USPS = torch.utils.data.DataLoader(test_USPS, batch_size=32, shuffle=False)"
   ]
  },
  {
   "cell_type": "code",
   "execution_count": 3,
   "metadata": {},
   "outputs": [],
   "source": [
    "# defining the transformation\n",
    "\n",
    "p = transforms.Compose([\n",
    "    transforms.ToPILImage(),\n",
    "    transforms.Resize((32,32)),\n",
    "    transforms.RandomCrop((28, 28)),\n",
    "    transforms.ToTensor(),\n",
    "])"
   ]
  },
  {
   "cell_type": "code",
   "execution_count": 66,
   "metadata": {},
   "outputs": [],
   "source": [
    "# transforming the MNIST data according to how it is done in the paper. First interpolating so that images are 32x32 and than performing 'random' 28x28 crop\n",
    "\n",
    "train_MNIST_transformed = [] # initializing the entire (batched) dataset as an empty list\n",
    "\n",
    "for batch_MNIST in trainset_MNIST:\n",
    "        \n",
    "    images = batch_MNIST[0] # taking the images from the dataset batch. this a torch.tensor of shape (32, 1, 28, 28)\n",
    "    labels = batch_MNIST[1] # taking the labels from the dataset batch. \n",
    "    \n",
    "    images_transformed = torch.zeros(size=torch.Size([32, 1, 28, 28])) # initializing the transformed images with the same shape as images (32, 1, 28, 28)\n",
    "        \n",
    "    for i in range(0, len(images)):\n",
    "        \n",
    "        image = images[i] \n",
    "        \n",
    "        image_transformed = p(image) # transforming the image with predefined transformation \"p\"\n",
    "        images_transformed[i] = image_transformed # replacing zero tensor (1, 28, 28) in images_transformed with the transformed image\n",
    "            \n",
    "    batch_MNIST_transformed = [images_transformed, labels] # transformed batch is simply a list of batch of images in [0] and batch of labels in [1]\n",
    "    \n",
    "    train_MNIST_transformed.append(batch_MNIST_transformed) # appending to the empty dataset list"
   ]
  },
  {
   "cell_type": "code",
   "execution_count": 77,
   "metadata": {},
   "outputs": [
    {
     "data": {
      "image/png": "[encoded data removed]",
      "text/plain": [
       "<Figure size 432x288 with 1 Axes>"
      ]
     },
     "metadata": {
      "needs_background": "light"
     },
     "output_type": "display_data"
    },
    {
     "data": {
      "image/png": "[encoded data removed]",
      "text/plain": [
       "<Figure size 432x288 with 1 Axes>"
      ]
     },
     "metadata": {
      "needs_background": "light"
     },
     "output_type": "display_data"
    }
   ],
   "source": [
    "# plotting 2 images from MNIST datset (2 to make sure I didn't make a mistake in transforming the dataset)\n",
    "\n",
    "batch_MNIST_0 = train_MNIST_transformed[0]\n",
    "images0 = batch_MNIST_0[0]\n",
    "image0 = images0[0]\n",
    "image1 = images0[1]\n",
    "\n",
    "plt.imshow(image0.view(28,28), cmap=\"gray\")\n",
    "plt.show()\n",
    "\n",
    "plt.imshow(image1.view(28,28), cmap=\"gray\")\n",
    "plt.show()"
   ]
  },
  {
   "cell_type": "code",
   "execution_count": 74,
   "metadata": {},
   "outputs": [],
   "source": [
    "# transforming the USPS data according to how it is done in the paper. First interpolating so that images are 32x32 and than performing 'random' 28x28 crop\n",
    "\n",
    "train_USPS_transformed = [] # initializing the entire (batched) dataset as an empty list\n",
    "\n",
    "for batch_USPS in trainset_USPS:\n",
    "        \n",
    "    images = batch_USPS[0] # taking the images from the dataset batch. this a torch.tensor of shape (32, 1, 28, 28)\n",
    "    labels = batch_USPS[1] # taking the labels from the dataset batch. \n",
    "    \n",
    "    images_transformed = torch.zeros(size=torch.Size([32, 1, 28, 28])) # initializing the transformed images with the same shape as images (32, 1, 28, 28)\n",
    "        \n",
    "    for i in range(0, len(images)):\n",
    "        \n",
    "        image = images[i] \n",
    "        \n",
    "        image_transformed = p(image) # transforming the image with predefined transformation \"p\"\n",
    "        images_transformed[i] = image_transformed # replacing zero tensor (1, 28, 28) in images_transformed with the transformed image\n",
    "            \n",
    "    batch_USPS_transformed = [images_transformed, labels] # transformed batch is simply a list of batch of images in [0] and batch of labels in [1]\n",
    "    \n",
    "    train_USPS_transformed.append(batch_USPS_transformed) # appending to the empty dataset list"
   ]
  },
  {
   "cell_type": "code",
   "execution_count": 86,
   "metadata": {},
   "outputs": [
    {
     "data": {
      "image/png": "[encoded data removed]",
      "text/plain": [
       "<Figure size 432x288 with 1 Axes>"
      ]
     },
     "metadata": {
      "needs_background": "light"
     },
     "output_type": "display_data"
    },
    {
     "data": {
      "image/png": "[encoded data removed]",
      "text/plain": [
       "<Figure size 432x288 with 1 Axes>"
      ]
     },
     "metadata": {
      "needs_background": "light"
     },
     "output_type": "display_data"
    }
   ],
   "source": [
    "# plotting 2 images from USPS datset (2 to make sure I didn't make a mistake in transforming the dataset)\n",
    "\n",
    "batch_USPS_0 = train_USPS_transformed[0]\n",
    "\n",
    "images0 = batch_USPS_0[0]\n",
    "image0 = images0[0]\n",
    "image1 = images0[1]\n",
    "\n",
    "plt.imshow(image0.view(28,28), cmap=\"gray\")\n",
    "plt.show()\n",
    "\n",
    "plt.imshow(image1.view(28,28), cmap=\"gray\")\n",
    "plt.show()"
   ]
  },
  {
   "cell_type": "code",
   "execution_count": 80,
   "metadata": {},
   "outputs": [],
   "source": [
    "import torch.nn as nn\n",
    "import torch.nn.functional as F"
   ]
  },
  {
   "cell_type": "code",
   "execution_count": 81,
   "metadata": {},
   "outputs": [],
   "source": [
    "class fNet(nn.Module):\n",
    "    def __init__(self):\n",
    "        super(fNet, self).__init__()\n",
    "        \n",
    "#             # 1st conv layer\n",
    "#             # input [1 x 28 x 28]\n",
    "#             # output [64 x 12 x 12]\n",
    "\n",
    "#             # 2nd conv layer\n",
    "#             # input [64 x 12 x 12]\n",
    "#             # output [64 x 4 x 4]\n",
    "\n",
    "#             # 3rd conv layer\n",
    "#             # input [64 x 4 x 4]\n",
    "#             # output [128 x 1 x 1]\n",
    "\n",
    "        self.conv1 = nn.Conv2d(1, 64, 5) \n",
    "        self.conv2 = nn.Conv2d(64, 64, 5)\n",
    "        self.conv3 = nn.Conv2d(64, 128, 5)\n",
    "        \n",
    "#         self.fc1 = nn.Linear(128 * 1 * 1, 512)\n",
    "\n",
    "        self.pool = nn.MaxPool2d(2, 2, padding=1)\n",
    "         \n",
    "    def forward(self, x):\n",
    "        output = self.pool(F.relu(self.conv1(x)))\n",
    "        output = self.pool(F.relu(self.conv2(output)))\n",
    "        output = F.relu(self.conv3(output))\n",
    "        output = output.view(-1, 128 * 1 * 1)\n",
    "#         output = self.fc1(output)\n",
    "        return output"
   ]
  },
  {
   "cell_type": "code",
   "execution_count": 103,
   "metadata": {},
   "outputs": [
    {
     "name": "stdout",
     "output_type": "stream",
     "text": [
      "fNet(\n",
      "  (conv1): Conv2d(1, 64, kernel_size=(5, 5), stride=(1, 1))\n",
      "  (conv2): Conv2d(64, 64, kernel_size=(5, 5), stride=(1, 1))\n",
      "  (conv3): Conv2d(64, 128, kernel_size=(5, 5), stride=(1, 1))\n",
      "  (pool): MaxPool2d(kernel_size=2, stride=2, padding=1, dilation=1, ceil_mode=False)\n",
      ")\n",
      "torch.Size([32, 128])\n"
     ]
    }
   ],
   "source": [
    "# just trying to pass some data to see if it works\n",
    "\n",
    "fnet = fNet()\n",
    "print(fnet)\n",
    "\n",
    "output_f = fnet(batch_MNIST_0[0])\n",
    "print(output.shape)"
   ]
  },
  {
   "cell_type": "code",
   "execution_count": 92,
   "metadata": {},
   "outputs": [],
   "source": [
    "class gNet(nn.Module):\n",
    "    def __init__(self):\n",
    "        super(gNet, self).__init__()\n",
    "                \n",
    "#             # 1st conv layer\n",
    "#             # input [1 x 28 x 28]\n",
    "#             # output [64 x 12 x 12]\n",
    "\n",
    "#             # 2nd conv layer\n",
    "#             # input [64 x 12 x 12]\n",
    "#             # output [64 x 4 x 4]\n",
    "\n",
    "#             # 3rd conv layer\n",
    "#             # input [64 x 4 x 4]\n",
    "#             # output [128 x 1 x 1]\n",
    "\n",
    "        self.conv1 = nn.Conv2d(1, 64, 5) \n",
    "        self.conv2 = nn.Conv2d(64, 64, 5)\n",
    "        self.conv3 = nn.Conv2d(64, 128, 5)\n",
    "        \n",
    "#         self.fc1 = nn.Linear(128 * 1 * 1, 512)\n",
    "\n",
    "        self.pool = nn.MaxPool2d(2, 2, padding=1)\n",
    "         \n",
    "    def forward(self, x):\n",
    "        output = self.pool(F.relu(self.conv1(x)))\n",
    "        output = self.pool(F.relu(self.conv2(output)))\n",
    "        output = F.relu(self.conv3(output))\n",
    "        output = output.view(-1, 128 * 1 *1)\n",
    "#         output = self.fc1(output)\n",
    "        return output"
   ]
  },
  {
   "cell_type": "code",
   "execution_count": 104,
   "metadata": {},
   "outputs": [
    {
     "name": "stdout",
     "output_type": "stream",
     "text": [
      "gNet(\n",
      "  (conv1): Conv2d(1, 64, kernel_size=(5, 5), stride=(1, 1))\n",
      "  (conv2): Conv2d(64, 64, kernel_size=(5, 5), stride=(1, 1))\n",
      "  (conv3): Conv2d(64, 128, kernel_size=(5, 5), stride=(1, 1))\n",
      "  (pool): MaxPool2d(kernel_size=2, stride=2, padding=1, dilation=1, ceil_mode=False)\n",
      ")\n",
      "torch.Size([32, 1, 28, 28])\n",
      "torch.Size([32, 128])\n"
     ]
    }
   ],
   "source": [
    "# again trying to pass some data to check if the gNet works\n",
    "\n",
    "gnet = gNet()\n",
    "print(gnet)\n",
    "print(batch_USPS_0[0].shape)\n",
    "output_g = gnet(batch_USPS_0[0])\n",
    "print(output_g.shape)"
   ]
  },
  {
   "cell_type": "code",
   "execution_count": 96,
   "metadata": {},
   "outputs": [],
   "source": [
    "class Discriminator(nn.Module):\n",
    "    def __init__(self):\n",
    "        super().__init__()\n",
    "\n",
    "        self.restored = True\n",
    "\n",
    "        \n",
    "        self.layer = nn.Sequential(\n",
    "            nn.Linear(128, 1024),\n",
    "            nn.ReLU(),\n",
    "            nn.Linear(1024, 1024),\n",
    "            nn.ReLU(),\n",
    "            nn.Linear(1024, 2),\n",
    "            nn.Softmax(dim=1)\n",
    "        )\n",
    "        \n",
    "    def forward(self, x):\n",
    "        \n",
    "        output = self.layer(x)\n",
    "        return output"
   ]
  },
  {
   "cell_type": "code",
   "execution_count": 97,
   "metadata": {},
   "outputs": [
    {
     "name": "stdout",
     "output_type": "stream",
     "text": [
      "Discriminator(\n",
      "  (layer): Sequential(\n",
      "    (0): Linear(in_features=128, out_features=1024, bias=True)\n",
      "    (1): ReLU()\n",
      "    (2): Linear(in_features=1024, out_features=1024, bias=True)\n",
      "    (3): ReLU()\n",
      "    (4): Linear(in_features=1024, out_features=2, bias=True)\n",
      "    (5): Softmax(dim=1)\n",
      "  )\n",
      ")\n",
      "tensor([[0.4945, 0.5055],\n",
      "        [0.4940, 0.5060],\n",
      "        [0.4941, 0.5059],\n",
      "        [0.4936, 0.5064],\n",
      "        [0.4935, 0.5065],\n",
      "        [0.4949, 0.5051],\n",
      "        [0.4955, 0.5045],\n",
      "        [0.4936, 0.5064],\n",
      "        [0.4947, 0.5053],\n",
      "        [0.4941, 0.5059],\n",
      "        [0.4934, 0.5066],\n",
      "        [0.4941, 0.5059],\n",
      "        [0.4941, 0.5059],\n",
      "        [0.4953, 0.5047],\n",
      "        [0.4942, 0.5058],\n",
      "        [0.4943, 0.5057],\n",
      "        [0.4938, 0.5062],\n",
      "        [0.4952, 0.5048],\n",
      "        [0.4951, 0.5049],\n",
      "        [0.4936, 0.5064],\n",
      "        [0.4942, 0.5058],\n",
      "        [0.4944, 0.5056],\n",
      "        [0.4940, 0.5060],\n",
      "        [0.4946, 0.5054],\n",
      "        [0.4950, 0.5050],\n",
      "        [0.4944, 0.5056],\n",
      "        [0.4942, 0.5058],\n",
      "        [0.4934, 0.5066],\n",
      "        [0.4949, 0.5051],\n",
      "        [0.4943, 0.5057],\n",
      "        [0.4938, 0.5062],\n",
      "        [0.4945, 0.5055]], grad_fn=<SoftmaxBackward>)\n"
     ]
    }
   ],
   "source": [
    "disc = Discriminator()\n",
    "print(disc)\n",
    "\n",
    "disc_output = disc(output)\n",
    "print(disc_output)"
   ]
  },
  {
   "cell_type": "code",
   "execution_count": 144,
   "metadata": {},
   "outputs": [],
   "source": [
    "class hSim(nn.Module):\n",
    "    def __init__(self):\n",
    "        super().__init__()\n",
    "    \n",
    "\n",
    "        self.restored = True\n",
    "        \n",
    "        self.U = torch.rand(size=(128, 512), requires_grad=True)\n",
    "        self.V = torch.rand(size=(128, 512), requires_grad=True)\n",
    "        \n",
    "    def forward(self, x_batch, mu_c_batch):\n",
    "        \n",
    "        h_batch = torch.zeros(size=[32]) # batchsize = 32\n",
    "        loopcount = 0        \n",
    "        for i in range(0, len(x_batch)):\n",
    "            x = x_batch[i]\n",
    "            mu_c = mu_c_batch[i]\n",
    "\n",
    "            \n",
    "            fac1 = torch.matmul(x, self.U)\n",
    "            fac2 = torch.matmul(mu_c, self.V)\n",
    "        \n",
    "            h = torch.matmul(fac1, fac2)\n",
    "            h_batch[i] = F.softmax(h, dim=0)\n",
    "        \n",
    "        return h_batch    "
   ]
  },
  {
   "cell_type": "code",
   "execution_count": 145,
   "metadata": {},
   "outputs": [
    {
     "name": "stdout",
     "output_type": "stream",
     "text": [
      "tensor([[0.8362, 0.5267, 0.8219,  ..., 0.9756, 0.2523, 0.1045],\n",
      "        [0.7451, 0.3446, 0.8894,  ..., 0.6088, 0.6659, 0.4713],\n",
      "        [0.5128, 0.8171, 0.0035,  ..., 0.5076, 0.0745, 0.8810],\n",
      "        ...,\n",
      "        [0.0040, 0.6453, 0.9248,  ..., 0.7778, 0.5544, 0.4570],\n",
      "        [0.1044, 0.1801, 0.1428,  ..., 0.9281, 0.5269, 0.8164],\n",
      "        [0.4326, 0.6323, 0.2865,  ..., 0.0925, 0.2366, 0.3201]],\n",
      "       requires_grad=True)\n",
      "tensor([1., 1., 1., 1., 1., 1., 1., 1., 1., 1., 1., 1., 1., 1., 1., 1., 1., 1.,\n",
      "        1., 1., 1., 1., 1., 1., 1., 1., 1., 1., 1., 1., 1., 1.],\n",
      "       grad_fn=<CopySlices>)\n"
     ]
    }
   ],
   "source": [
    "hsim = hSim()\n",
    "\n",
    "# print(output_f.shape)\n",
    "output_h = hsim(output_f, output_g)\n",
    "print(output_h)"
   ]
  },
  {
   "cell_type": "code",
   "execution_count": 95,
   "metadata": {},
   "outputs": [
    {
     "name": "stdout",
     "output_type": "stream",
     "text": [
      "torch.Size([2, 2])\n",
      "torch.Size([4])\n",
      "tensor([1, 2, 2, 1])\n"
     ]
    }
   ],
   "source": [
    "# try stuff cell\n",
    "\n",
    "t = torch.tensor([[1,2],[2,1]])\n",
    "print(t.shape)\n",
    "t = torch.flatten(t)\n",
    "print(t.shape)\n",
    "print(t)"
   ]
  },
  {
   "cell_type": "code",
   "execution_count": null,
   "metadata": {},
   "outputs": [],
   "source": []
  }
 ],
 "metadata": {
  "kernelspec": {
   "display_name": "Python 3",
   "language": "python",
   "name": "python3"
  },
  "language_info": {
   "codemirror_mode": {
    "name": "ipython",
    "version": 3
   },
   "file_extension": ".py",
   "mimetype": "text/x-python",
   "name": "python",
   "nbconvert_exporter": "python",
   "pygments_lexer": "ipython3",
   "version": "3.7.9"
  }
 },
 "nbformat": 4,
 "nbformat_minor": 4
}
